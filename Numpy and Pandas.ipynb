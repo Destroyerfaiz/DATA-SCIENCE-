{
 "cells": [
  {
   "cell_type": "markdown",
   "metadata": {},
   "source": [
    "# Numpy\n",
    "\n",
    "Numpy is a pyton library which is used for data analysis"
   ]
  },
  {
   "cell_type": "code",
   "execution_count": 165,
   "metadata": {},
   "outputs": [
    {
     "name": "stdout",
     "output_type": "stream",
     "text": [
      "[[1 2 3]\n",
      " [1 2 3]]\n",
      "type---- <class 'numpy.ndarray'>\n",
      "\n",
      "ravel --- [1 2 3 1 2 3]\n",
      "\n",
      "\n",
      "Zeros---\n",
      " [[0. 0. 0. 0. 0.]\n",
      " [0. 0. 0. 0. 0.]\n",
      " [0. 0. 0. 0. 0.]]\n",
      "\n",
      "\n",
      "Linspace ---- [ 1.    5.75 10.5  15.25 20.  ]\n",
      "\n",
      "\n",
      "Reshape--- \n",
      " [[0 1]\n",
      " [2 3]\n",
      " [4 5]\n",
      " [6 7]\n",
      " [8 9]]\n",
      "\n",
      "\n",
      "Reshape----\n",
      " [[0 1 2 3 4]\n",
      " [5 6 7 8 9]]\n",
      "\n",
      "\n",
      "3d Array----\n",
      " [[[0. 0.]\n",
      "  [0. 0.]]\n",
      "\n",
      " [[0. 0.]\n",
      "  [0. 0.]]] \n",
      "\n",
      "Slicing ---\n",
      " [2 4 6 8]\n"
     ]
    },
    {
     "data": {
      "text/plain": [
       "array([[0.2359043 , 0.31011509, 0.19567551, ..., 0.8988496 , 0.4323139 ,\n",
       "        0.67343932],\n",
       "       [0.42663189, 0.91928918, 0.48334066, ..., 0.28723221, 0.79126298,\n",
       "        0.97888601],\n",
       "       [0.5030068 , 0.06972284, 0.79090298, ..., 0.54415296, 0.56100391,\n",
       "        0.63846386],\n",
       "       ...,\n",
       "       [0.11153168, 0.10349651, 0.05702854, ..., 0.35219727, 0.93530066,\n",
       "        0.77051798],\n",
       "       [0.95030674, 0.57612622, 0.04200297, ..., 0.52309803, 0.41391798,\n",
       "        0.07386084],\n",
       "       [0.79838731, 0.22423897, 0.81510091, ..., 0.65206518, 0.5429044 ,\n",
       "        0.84076347]])"
      ]
     },
     "execution_count": 165,
     "metadata": {},
     "output_type": "execute_result"
    }
   ],
   "source": [
    "import numpy as np\n",
    "\n",
    "arr1 = np.array([[1 ,2, 3],[1, 2 ,3]])\n",
    "print(arr1)\n",
    "\n",
    "print(\"type----\",type(arr1),end=\"\\n\\n\")\n",
    "\n",
    "\n",
    "### what ravel does is it basically convert any dimemsion array into One dimension\n",
    "new  = np.ravel(arr1)\n",
    "\n",
    "print(\"ravel ---\",new,end=\"\\n\\n\\n\")\n",
    "\n",
    "new  = np.zeros((3,5))\n",
    "\n",
    "print(\"Zeros---\\n\",new,end=\"\\n\\n\\n\")\n",
    "\n",
    "new = np.linspace(1,20,5)\n",
    "\n",
    "print(\"Linspace ----\",new,end=\"\\n\\n\\n\")\n",
    "\n",
    "new = list(range(0,10))\n",
    "new = np.array(new)\n",
    "new = new.reshape((5,2))\n",
    "print(\"Reshape--- \\n\",new,end=\"\\n\\n\\n\")\n",
    "\n",
    "new = new.reshape(2,5)\n",
    "print(\"Reshape----\\n\",new,end=\"\\n\\n\\n\")\n",
    "\n",
    "new = np.zeros(8)\n",
    "new = new.reshape(2,2,2)\n",
    "print(\"3d Array----\\n\",new,\"\\n\")\n",
    "\n",
    "\n",
    "new1  = np.array([1,2,3,4,5,6,7,8,9])\n",
    "new = slice(1,10,2)\n",
    "\n",
    "new = new1[new]\n",
    "print(\"Slicing ---\\n\",new)\n",
    "\n",
    "\n",
    "\n",
    "###random value which gives with gaussian equ\n",
    "\n",
    "np.random.rand(400,8)"
   ]
  },
  {
   "cell_type": "code",
   "execution_count": 166,
   "metadata": {},
   "outputs": [
    {
     "name": "stdout",
     "output_type": "stream",
     "text": [
      "[[1 2 3]\n",
      " [1 2 3]]\n",
      "type---- <class 'numpy.ndarray'>\n",
      "\n",
      "ravel --- [1 2 3 1 2 3]\n",
      "\n",
      "\n",
      "Zeros---\n",
      " [[0. 0. 0. 0. 0.]\n",
      " [0. 0. 0. 0. 0.]\n",
      " [0. 0. 0. 0. 0.]]\n",
      "\n",
      "\n",
      "Linspace ---- [ 1.    5.75 10.5  15.25 20.  ]\n",
      "\n",
      "\n",
      "Reshape--- \n",
      " [[0 1]\n",
      " [2 3]\n",
      " [4 5]\n",
      " [6 7]\n",
      " [8 9]]\n",
      "\n",
      "\n",
      "Reshape----\n",
      " [[0 1 2 3 4]\n",
      " [5 6 7 8 9]]\n",
      "\n",
      "\n",
      "3d Array----\n",
      " [[[0. 0.]\n",
      "  [0. 0.]]\n",
      "\n",
      " [[0. 0.]\n",
      "  [0. 0.]]] \n",
      "\n",
      "Slicing ---\n",
      " [2 4 6 8]\n"
     ]
    },
    {
     "data": {
      "text/plain": [
       "array([[0.9581219 , 0.86291227, 0.5885841 , ..., 0.02569282, 0.54841766,\n",
       "        0.62339519],\n",
       "       [0.79246143, 0.3686506 , 0.06234708, ..., 0.71453704, 0.77682794,\n",
       "        0.24409812],\n",
       "       [0.84964151, 0.95849332, 0.22964629, ..., 0.99195856, 0.48453925,\n",
       "        0.44440014],\n",
       "       ...,\n",
       "       [0.5856998 , 0.38910316, 0.98381189, ..., 0.50444245, 0.77855953,\n",
       "        0.54759048],\n",
       "       [0.14556653, 0.52681984, 0.71338303, ..., 0.08142721, 0.09734485,\n",
       "        0.73195479],\n",
       "       [0.21358076, 0.02628621, 0.56469461, ..., 0.37691878, 0.3641454 ,\n",
       "        0.49799938]])"
      ]
     },
     "execution_count": 166,
     "metadata": {},
     "output_type": "execute_result"
    }
   ],
   "source": [
    "import numpy as np\n",
    "\n",
    "arr1 = np.array([[1 ,2, 3],[1, 2 ,3]])\n",
    "print(arr1)\n",
    "\n",
    "print(\"type----\",type(arr1),end=\"\\n\\n\")\n",
    "\n",
    "\n",
    "### what ravel does is it basically convert any dimemsion array into One dimension\n",
    "new  = np.ravel(arr1)\n",
    "\n",
    "print(\"ravel ---\",new,end=\"\\n\\n\\n\")\n",
    "\n",
    "new  = np.zeros((3,5))\n",
    "\n",
    "print(\"Zeros---\\n\",new,end=\"\\n\\n\\n\")\n",
    "\n",
    "new = np.linspace(1,20,5)\n",
    "\n",
    "print(\"Linspace ----\",new,end=\"\\n\\n\\n\")\n",
    "\n",
    "new = list(range(0,10))\n",
    "new = np.array(new)\n",
    "new = new.reshape((5,2))\n",
    "print(\"Reshape--- \\n\",new,end=\"\\n\\n\\n\")\n",
    "\n",
    "new = new.reshape(2,5)\n",
    "print(\"Reshape----\\n\",new,end=\"\\n\\n\\n\")\n",
    "\n",
    "new = np.zeros(8)\n",
    "new = new.reshape(2,2,2)\n",
    "print(\"3d Array----\\n\",new,\"\\n\")\n",
    "\n",
    "\n",
    "new1  = np.array([1,2,3,4,5,6,7,8,9])\n",
    "new = slice(1,10,2)\n",
    "\n",
    "new = new1[new]\n",
    "print(\"Slicing ---\\n\",new)\n",
    "\n",
    "\n",
    "\n",
    "###random value which gives with gaussian equ\n",
    "\n",
    "np.random.rand(400,8)"
   ]
  },
  {
   "cell_type": "code",
   "execution_count": null,
   "metadata": {},
   "outputs": [],
   "source": []
  },
  {
   "cell_type": "code",
   "execution_count": 65,
   "metadata": {},
   "outputs": [
    {
     "name": "stdout",
     "output_type": "stream",
     "text": [
      "[[  1   2   3]\n",
      " [ 33 132  55]\n",
      " [ 66  77  88]]\n"
     ]
    }
   ],
   "source": [
    "arr = np.array([[1,2,3],\n",
    "                [33,44,55],\n",
    "                [66,77,88]])\n",
    "\n",
    "# Task  i want to fetch 2nd element from given array and add with the 3rd element of 3rd row\n",
    "\n",
    "arr[1:2,1:2]=arr[1:2,1:2] + arr[2:,2:3]\n",
    "print(arr)"
   ]
  },
  {
   "cell_type": "code",
   "execution_count": 68,
   "metadata": {},
   "outputs": [
    {
     "name": "stdout",
     "output_type": "stream",
     "text": [
      "[[44 55]\n",
      " [77 88]]\n"
     ]
    }
   ],
   "source": [
    "arr = np.array([[1,2,3],\n",
    "                [33,44,55],\n",
    "                [66,77,88]])\n",
    "\n",
    "# Task  i want sub array from given array which contain 2nd and 3rd column of 2nd and 3rd row\n",
    "\n",
    "arr = arr[1:,1:]\n",
    "print(arr)"
   ]
  },
  {
   "cell_type": "code",
   "execution_count": 69,
   "metadata": {},
   "outputs": [
    {
     "data": {
      "text/plain": [
       "array([[6.23042070e-307, 4.67296746e-307, 1.69121096e-306,\n",
       "        1.11260280e-306],\n",
       "       [1.11256817e-306, 1.06811422e-306, 1.42417221e-306,\n",
       "        1.11260619e-306],\n",
       "       [8.90094053e-307, 1.86919378e-306, 1.06809792e-306,\n",
       "        1.37962456e-306],\n",
       "       [1.69111861e-306, 1.78020169e-306, 1.37961777e-306,\n",
       "        7.56599807e-307]])"
      ]
     },
     "execution_count": 69,
     "metadata": {},
     "output_type": "execute_result"
    }
   ],
   "source": [
    "# create an array with random values\n",
    "np.empty([4,4],dtype=float)"
   ]
  },
  {
   "cell_type": "code",
   "execution_count": 73,
   "metadata": {},
   "outputs": [
    {
     "data": {
      "text/plain": [
       "array([[ 1.,  2.,  3.],\n",
       "       [33., 44., 55.],\n",
       "       [66., 77., 88.]])"
      ]
     },
     "execution_count": 73,
     "metadata": {},
     "output_type": "execute_result"
    }
   ],
   "source": [
    "# save and fetch array from file\n",
    "\n",
    "arr = np.array([[1,2,3],\n",
    "                [33,44,55],\n",
    "                [66,77,88]])\n",
    "\n",
    "np.savetxt(r\"C:\\users\\faiz\\downloads\\a.txt\",arr)\n",
    "\n",
    "arr2 = np.loadtxt(r\"C:\\users\\faiz\\downloads\\a.txt\")\n",
    "arr2"
   ]
  },
  {
   "cell_type": "markdown",
   "metadata": {},
   "source": [
    "# Pandas\n",
    "\n",
    "Pandas is a library written in python progrmming language for data manipulation and analysis.\n",
    "\n",
    "* pandas contain 3 Data Structure\n",
    "   -Series\n",
    "   -Data Frame\n",
    "   -Panels"
   ]
  },
  {
   "cell_type": "markdown",
   "metadata": {},
   "source": [
    "## Series "
   ]
  },
  {
   "cell_type": "code",
   "execution_count": 85,
   "metadata": {},
   "outputs": [
    {
     "name": "stdout",
     "output_type": "stream",
     "text": [
      "0    80\n",
      "1    81\n",
      "2    82\n",
      "3    83\n",
      "4    84\n",
      "5    85\n",
      "6    86\n",
      "7    87\n",
      "8    88\n",
      "9    89\n",
      "dtype: int64\n",
      "\n",
      "\n",
      "\n",
      " 2    82\n",
      "3    83\n",
      "4    84\n",
      "dtype: int64\n"
     ]
    }
   ],
   "source": [
    "import pandas as pd\n",
    "\n",
    "l = list(range(80,90))\n",
    "\n",
    "series = pd.Series(l)\n",
    "print(series)\n",
    "\n",
    "# lets now give fetch element\n",
    "\n",
    "print(\"\\n\\n\\n\",series[2:5])\n",
    "# last range is excluded"
   ]
  },
  {
   "cell_type": "markdown",
   "metadata": {},
   "source": [
    "## Data Frame"
   ]
  },
  {
   "cell_type": "code",
   "execution_count": 2,
   "metadata": {},
   "outputs": [
    {
     "name": "stdout",
     "output_type": "stream",
     "text": [
      "Dataframe\n",
      "     0\n",
      "0  10\n",
      "1  50\n",
      "2  80\n",
      "3  65\n"
     ]
    }
   ],
   "source": [
    "l = [10,50,80,65]\n",
    "\n",
    "d = pd.DataFrame(l)\n",
    "print(\"Dataframe\\n\",d)\n",
    "\n",
    "\n",
    "# now lets provide a column name\n",
    "l = {\"c1\":[10,50,80,65]}\n",
    "d = pd.DataFrame(l)\n",
    "print(\"\\n\\nData Frame With Explicit column Name:\\n\",d)\n",
    "\n",
    "\n",
    "# now lets provide indexing\n",
    "d = pd.DataFrame(l,index=['a','b','c','d'])\n",
    "print(\"\\n\\nDataFrame With Index\\n\",d)"
   ]
  },
  {
   "cell_type": "markdown",
   "metadata": {},
   "source": [
    "## Adding and Deletion of Column in Pandas"
   ]
  },
  {
   "cell_type": "code",
   "execution_count": 134,
   "metadata": {},
   "outputs": [
    {
     "name": "stdout",
     "output_type": "stream",
     "text": [
      "Before Deleting: \n",
      "\n",
      "\n",
      "            Afzal  Ram  Thomas\n",
      "physics       40   56      36\n",
      "chemistry     50   50      90\n",
      "Maths         60   49      75\n",
      "After Deleting: \n",
      "\n",
      "\n",
      "            Afzal  Thomas\n",
      "physics       40      36\n",
      "chemistry     50      90\n",
      "Maths         60      75\n",
      "\n",
      "\n",
      "After alternate method\n",
      " physics      40\n",
      "chemistry    50\n",
      "Maths        60\n",
      "Name: Afzal, dtype: int64\n"
     ]
    }
   ],
   "source": [
    "s1 = pd.Series([40,50,60],index=[\"physics\",\"chemistry\",\"Maths\"])\n",
    "s2 = pd.Series([56,50,49],index=[\"physics\",\"chemistry\",\"Maths\"])\n",
    "\n",
    "df= pd.DataFrame({\"Afzal\":s1,\"Ram\":s2})\n",
    "## here it will not include new rows of economics and history\n",
    "df[\"Thomas\"] = s2 = pd.Series([36,90,75,65,89],index=[\"physics\",\"chemistry\",\"Maths\",\"Economics\",\"History\"])\n",
    "df\n",
    "df1 =df\n",
    "print(\"Before Deleting: \\n\\n\\n\",df)\n",
    "## Deleting the col\n",
    "\n",
    "del(df[\"Ram\"])\n",
    "print(\"After Deleting: \\n\\n\\n\",df)\n",
    "\n",
    "\n",
    "## alternate method to delete \n",
    "df=df.pop('Afzal')\n",
    "print(\"\\n\\nAfter alternate method\\n\",df)"
   ]
  },
  {
   "cell_type": "code",
   "execution_count": 148,
   "metadata": {},
   "outputs": [
    {
     "data": {
      "text/html": [
       "<div>\n",
       "<style scoped>\n",
       "    .dataframe tbody tr th:only-of-type {\n",
       "        vertical-align: middle;\n",
       "    }\n",
       "\n",
       "    .dataframe tbody tr th {\n",
       "        vertical-align: top;\n",
       "    }\n",
       "\n",
       "    .dataframe thead th {\n",
       "        text-align: right;\n",
       "    }\n",
       "</style>\n",
       "<table border=\"1\" class=\"dataframe\">\n",
       "  <thead>\n",
       "    <tr style=\"text-align: right;\">\n",
       "      <th></th>\n",
       "      <th>Afzal</th>\n",
       "      <th>Ram</th>\n",
       "      <th>Thomas</th>\n",
       "    </tr>\n",
       "  </thead>\n",
       "  <tbody>\n",
       "    <tr>\n",
       "      <th>Maths</th>\n",
       "      <td>60</td>\n",
       "      <td>49</td>\n",
       "      <td>75</td>\n",
       "    </tr>\n",
       "    <tr>\n",
       "      <th>physics</th>\n",
       "      <td>40</td>\n",
       "      <td>56</td>\n",
       "      <td>36</td>\n",
       "    </tr>\n",
       "  </tbody>\n",
       "</table>\n",
       "</div>"
      ],
      "text/plain": [
       "         Afzal  Ram  Thomas\n",
       "Maths       60   49      75\n",
       "physics     40   56      36"
      ]
     },
     "execution_count": 148,
     "metadata": {},
     "output_type": "execute_result"
    }
   ],
   "source": [
    "s1 = pd.Series([40,50,60],index=[\"physics\",\"chemistry\",\"Maths\"])\n",
    "s2 = pd.Series([56,50,49],index=[\"physics\",\"chemistry\",\"Maths\"])\n",
    "\n",
    "df= pd.DataFrame({\"Afzal\":s1,\"Ram\":s2})\n",
    "## here it will not include new rows of economics and history\n",
    "df[\"Thomas\"] = s2 = pd.Series([36,90,75,65,89],index=[\"physics\",\"chemistry\",\"Maths\",\"Economics\",\"History\"])\n",
    "\n",
    "##using loc you can either use index or postion\n",
    "df = df.loc[['Maths','physics']]\n",
    "df"
   ]
  },
  {
   "cell_type": "markdown",
   "metadata": {},
   "source": [
    "# Matplotlib\n",
    "\n",
    "Matplotlib is library which is used for Data Visualization. which help to iterpret the data and \n",
    "adjust diff variables to see their effect"
   ]
  },
  {
   "cell_type": "code",
   "execution_count": 150,
   "metadata": {},
   "outputs": [
    {
     "data": {
      "image/png": "[encoded data removed]",
      "text/plain": [
       "<Figure size 432x288 with 1 Axes>"
      ]
     },
     "metadata": {},
     "output_type": "display_data"
    }
   ],
   "source": [
    "import matplotlib.pyplot as plt\n",
    "\n",
    "a = np.array([1,2,3,4])\n",
    "\n",
    "plt.plot(a)\n",
    "plt.show()"
   ]
  },
  {
   "cell_type": "code",
   "execution_count": null,
   "metadata": {},
   "outputs": [],
   "source": []
  },
  {
   "cell_type": "code",
   "execution_count": 164,
   "metadata": {},
   "outputs": [
    {
     "data": {
      "image/png": "[encoded data removed]",
      "text/plain": [
       "<Figure size 432x288 with 1 Axes>"
      ]
     },
     "metadata": {},
     "output_type": "display_data"
    }
   ],
   "source": [
    "x = [i**2 for i in range(1,5)]\n",
    "\n",
    "y= range(1,5)\n",
    "z = np.arange(1,10,2)\n",
    "\n",
    "plt.plot(x,label=\"x\")\n",
    "plt.plot(y,label=\"y\")\n",
    "plt.plot(z,label=\"z\")\n",
    "plt.title(\"Demo\")\n",
    "\n",
    "plt.legend()\n",
    "plt.savefig()\n",
    "plt.show()"
   ]
  }
 ],
 "metadata": {
  "kernelspec": {
   "display_name": "Python 3",
   "language": "python",
   "name": "python3"
  },
  "language_info": {
   "codemirror_mode": {
    "name": "ipython",
    "version": 3
   },
   "file_extension": ".py",
   "mimetype": "text/x-python",
   "name": "python",
   "nbconvert_exporter": "python",
   "pygments_lexer": "ipython3",
   "version": "3.6.5"
  }
 },
 "nbformat": 4,
 "nbformat_minor": 2
}
